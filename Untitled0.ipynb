{
  "nbformat": 4,
  "nbformat_minor": 0,
  "metadata": {
    "colab": {
      "provenance": []
    },
    "kernelspec": {
      "name": "python3",
      "display_name": "Python 3"
    },
    "language_info": {
      "name": "python"
    }
  },
  "cells": [
    {
      "cell_type": "code",
      "execution_count": null,
      "metadata": {
        "id": "LwSulzMMrooJ"
      },
      "outputs": [],
      "source": [
        "# 1\n",
        "\n",
        "import pandas as pd\n",
        "import matplotlib.pyplot as plt\n",
        "import scipy.stats as stats\n",
        "df = pd.read_csv('HR.csv', delimiter=',')\n",
        "df.head()"
      ]
    },
    {
      "cell_type": "code",
      "source": [
        "# 2\n",
        "\n",
        "df.describe()\n",
        "df.mode()"
      ],
      "metadata": {
        "id": "4dLACbHhruCJ"
      },
      "execution_count": null,
      "outputs": []
    },
    {
      "cell_type": "code",
      "source": [
        "# 3\n",
        "\n",
        "df_new = df[['satisfaction_level','last_evaluation','number_project','average_montly_hours','time_spend_company','Work_accident','left','promotion_last_5years']]\n",
        "df_new.head()\n",
        "f = plt.figure(figsize=(14, 12))\n",
        "plt.matshow(df_new.corr(), fignum=f.number)\n",
        "plt.xticks(range(df_new.shape[1]), df_new.columns, fontsize=12, rotation=45)\n",
        "plt.yticks(range(df_new.shape[1]), df_new.columns, fontsize=12)\n",
        "cb = plt.colorbar()\n",
        "cb.ax.tick_params(labelsize=14)\n",
        "\n",
        "# Самые скоррелированные:\n",
        "\n",
        "average_montly_hours и number_project\n",
        "last_evaluation и number_project\n",
        "Менее скоррелированные:\n",
        "\n",
        "left и satisfaction_level\n",
        "left и Work_accident"
      ],
      "metadata": {
        "id": "sH5UjWnTr4ru"
      },
      "execution_count": null,
      "outputs": []
    },
    {
      "cell_type": "code",
      "source": [
        "# 4\n",
        "df.groupby('department')['department'].count()\n"
      ],
      "metadata": {
        "id": "a7HwOY8JsGAn"
      },
      "execution_count": null,
      "outputs": []
    },
    {
      "cell_type": "code",
      "source": [
        "#5\n",
        "\n",
        "df.groupby('salary')['salary'].count().plot(kind=\"barh\")\n"
      ],
      "metadata": {
        "id": "KrIq7gXIsMYN"
      },
      "execution_count": null,
      "outputs": []
    },
    {
      "cell_type": "code",
      "source": [
        "#6\n",
        "df_r = df.groupby([df['department'],df['salary']])[['salary']].count()\n",
        "df_r\n",
        "df_r.plot(kind=\"barh\",figsize=(10,10))\n"
      ],
      "metadata": {
        "id": "INYLvE1dsSG9"
      },
      "execution_count": null,
      "outputs": []
    },
    {
      "cell_type": "code",
      "source": [
        "# 7\n",
        "df_high = list(df.loc[df['salary'] == 'high']['average_montly_hours'])\n",
        "df_low = list(df.loc[df['salary'] == 'low']['average_montly_hours'])\n",
        "plt.hist(df_high, bins=100, density=True);\n",
        "plt.hist(df_low, bins=100, density=True);\n",
        "#уже видно, что нет разницы\n",
        "\n",
        "t, p = stats.ttest_ind(df_high, df_low)\n",
        "print(t, p)"
      ],
      "metadata": {
        "id": "xA8InNgGsdCg"
      },
      "execution_count": null,
      "outputs": []
    },
    {
      "cell_type": "code",
      "source": [
        "# 8\n",
        "\n",
        "df_left = df.loc[df['left'] == 1]\n",
        "df_left.head()\n",
        "len(df_left.loc[df_left['promotion_last_5years'] == 1])/len(df_left)\n",
        "df_left['satisfaction_level'].mean()\n",
        "df_left['number_project'].mean()\n",
        "df_noleft = df.loc[df['left'] == 0]\n",
        "df_noleft.head()\n",
        "len(df_noleft.loc[df_noleft['promotion_last_5years'] == 1])/len(df_noleft)\n",
        "df_noleft['satisfaction_level'].mean()\n",
        "df_noleft['number_project'].mean()\n"
      ],
      "metadata": {
        "id": "jTQpOOi5sifa"
      },
      "execution_count": null,
      "outputs": []
    },
    {
      "cell_type": "code",
      "source": [
        "# 9\n",
        "\n",
        "left = pd.array(df_new['left'])\n",
        "from sklearn.model_selection import train_test_split\n",
        "X_train, X_test, y_train, y_test = train_test_split(df_new[['satisfaction_level','last_evaluation','number_project',\n",
        "                                                            'average_montly_hours','time_spend_company','Work_accident',\n",
        "                                                            'promotion_last_5years']], left, test_size=0.20)\n",
        "from sklearn.discriminant_analysis import LinearDiscriminantAnalysis\n",
        "lda = LinearDiscriminantAnalysis()\n",
        "lda.fit(X_train, y_train)\n",
        "result = pd.DataFrame([y_test, lda.predict(X_test)]).T\n",
        "result\n",
        "from sklearn.metrics import accuracy_score\n",
        "accuracy_score(y_test, lda.predict(X_test))\n",
        "\n",
        "# Судя по п.3 у нас на увольнение мало какие другие данные влияют, так что не удивительно, что не 100% попадание"
      ],
      "metadata": {
        "id": "o3MZAAsSs_uS"
      },
      "execution_count": null,
      "outputs": []
    }
  ]
}